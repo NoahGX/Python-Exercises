{
  "cells": [
    {
      "cell_type": "markdown",
      "metadata": {
        "id": "EJjPpwTxDiMi"
      },
      "source": [
        "# **8-Number Puzzle**\n",
        "- Uninformed Search: Depth First\n",
        "- Arrange the tiles to get the order [1,2,3],[4,5,6],[7,8,0]\n",
        "- 0 is the blank, numbers can only be moved into the blank tile"
      ]
    },
    {
      "cell_type": "code",
      "execution_count": 1,
      "metadata": {
        "id": "3UyadgCODh55"
      },
      "outputs": [],
      "source": [
        "import numpy as np\n",
        "from collections import deque"
      ]
    },
    {
      "cell_type": "code",
      "execution_count": 2,
      "metadata": {
        "id": "MEv4ICaWDht9"
      },
      "outputs": [],
      "source": [
        "def generate_random_puzzle():\n",
        "    numbers = list(range(0, 9))\n",
        "    np.random.shuffle(numbers)\n",
        "    puzzle = np.array(numbers).reshape((3, 3))\n",
        "    return puzzle"
      ]
    },
    {
      "cell_type": "code",
      "execution_count": 3,
      "metadata": {
        "id": "XCWQTFBjDZnf"
      },
      "outputs": [],
      "source": [
        "# Function to check if a puzzle configuration is valid\n",
        "def is_valid(puzzle):\n",
        "    flat_puzzle = puzzle.flatten()\n",
        "    inversion_count = 0\n",
        "    for i in range(len(flat_puzzle) - 1):\n",
        "        for j in range(i + 1, len(flat_puzzle)):\n",
        "            if flat_puzzle[i] > flat_puzzle[j] and flat_puzzle[i] != 0 and flat_puzzle[j] != 0:\n",
        "                inversion_count += 1\n",
        "    return inversion_count % 2 == 0\n"
      ]
    },
    {
      "cell_type": "code",
      "execution_count": 4,
      "metadata": {
        "id": "A4soJTUBDbti"
      },
      "outputs": [],
      "source": [
        "# Function to get possible moves from a given puzzle state\n",
        "def get_possible_moves(puzzle):\n",
        "    empty_row, empty_col = np.argwhere(puzzle == 0)[0]\n",
        "    possible_moves = []\n",
        "\n",
        "    if empty_row > 0:\n",
        "        possible_moves.append((empty_row - 1, empty_col))\n",
        "    if empty_row < 2:\n",
        "        possible_moves.append((empty_row + 1, empty_col))\n",
        "    if empty_col > 0:\n",
        "        possible_moves.append((empty_row, empty_col - 1))\n",
        "    if empty_col < 2:\n",
        "        possible_moves.append((empty_row, empty_col + 1))\n",
        "\n",
        "    return possible_moves"
      ]
    },
    {
      "cell_type": "code",
      "execution_count": 5,
      "metadata": {
        "id": "VFnf3FGbDg2p"
      },
      "outputs": [],
      "source": [
        "def depth_first_search(initial_puzzle, final_puzzle):\n",
        "    stack = deque([initial_puzzle])\n",
        "    parent_map = {tuple(initial_puzzle.flatten()): None}\n",
        "    visited = set()\n",
        "\n",
        "    while stack:\n",
        "        current_puzzle = stack.pop()\n",
        "        current_puzzle_tuple = tuple(current_puzzle.flatten())\n",
        "\n",
        "        # If the current puzzle configuration matches the final puzzle, backtrack to get the path\n",
        "        if np.array_equal(current_puzzle, final_puzzle):\n",
        "            path = []\n",
        "            while current_puzzle_tuple:\n",
        "                path.insert(0, np.array(current_puzzle_tuple).reshape(3,3))\n",
        "                current_puzzle_tuple = parent_map[current_puzzle_tuple]\n",
        "            return [final_puzzle, path]\n",
        "\n",
        "        visited.add(current_puzzle_tuple)\n",
        "\n",
        "        for move in get_possible_moves(current_puzzle):\n",
        "            next_puzzle = current_puzzle.copy()\n",
        "            empty_row, empty_col = np.argwhere(next_puzzle == 0)[0]\n",
        "            next_puzzle[empty_row, empty_col], next_puzzle[move] = next_puzzle[move], next_puzzle[empty_row, empty_col]\n",
        "            next_puzzle_tuple = tuple(next_puzzle.flatten())\n",
        "\n",
        "            if next_puzzle_tuple not in visited and next_puzzle_tuple not in parent_map:\n",
        "                stack.append(next_puzzle)\n",
        "                parent_map[next_puzzle_tuple] = current_puzzle_tuple\n",
        "\n",
        "    return [initial_puzzle, None]"
      ]
    },
    {
      "cell_type": "code",
      "execution_count": 6,
      "metadata": {
        "id": "qPrbhAuUJ-0S"
      },
      "outputs": [],
      "source": [
        "# Generate initial and final puzzle configurations\n",
        "valid_puzzle = False\n",
        "while not valid_puzzle:\n",
        "   initial_puzzle = generate_random_puzzle()\n",
        "   valid_puzzle = is_valid(initial_puzzle)\n",
        "final_puzzle = np.array([[1, 2, 3], [4, 5, 6], [7, 8, 0]])"
      ]
    },
    {
      "cell_type": "code",
      "execution_count": 7,
      "metadata": {
        "id": "w4tqLl3rKIvJ"
      },
      "outputs": [],
      "source": [
        "# Solve the puzzle using DFS\n",
        "[solved,path] = depth_first_search(initial_puzzle, final_puzzle)"
      ]
    },
    {
      "cell_type": "code",
      "execution_count": 8,
      "metadata": {
        "colab": {
          "base_uri": "https://localhost:8080/"
        },
        "id": "c98ILpYeMzji",
        "outputId": "56c757f4-6749-4563-c818-fb391ca57b0a"
      },
      "outputs": [
        {
          "name": "stdout",
          "output_type": "stream",
          "text": [
            "Validation Number: 432\n"
          ]
        }
      ],
      "source": [
        "from numpy import dot\n",
        "print(\"Validation Number:\",dot(solved, final_puzzle).sum())"
      ]
    }
  ],
  "metadata": {
    "colab": {
      "provenance": []
    },
    "kernelspec": {
      "display_name": "Python 3",
      "name": "python3"
    },
    "language_info": {
      "codemirror_mode": {
        "name": "ipython",
        "version": 3
      },
      "file_extension": ".py",
      "mimetype": "text/x-python",
      "name": "python",
      "nbconvert_exporter": "python",
      "pygments_lexer": "ipython3",
      "version": "3.12.2"
    }
  },
  "nbformat": 4,
  "nbformat_minor": 0
}
