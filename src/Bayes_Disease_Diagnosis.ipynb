{
  "cells": [
    {
      "cell_type": "markdown",
      "metadata": {
        "id": "ENEQAgz_y_6Y"
      },
      "source": [
        "# **Bayes’ Theorem: Diagnosing a Disease**\n",
        "**Objective**: Understand the application of Bayes’ theorem in medical diagnosis and reasoning under uncertainty.\n",
        "\n",
        "***\n",
        "\n",
        "**Background**:\n",
        "Imagine you are a doctor, and you have a patient who has been tested for a particular disease. The test is not perfect; it sometimes gives false positives and false negatives. You know the following information:\n",
        "\n",
        "- The probability of any random patient having the disease is 1% (P(Disease) = 0.01).\n",
        "- If a patient has the disease, the probability that the test will correctly diagnose the disease (true positive) is:\n",
        "    - `95% (P(Test+ | Disease) = 0.95)`.\n",
        "- If a patient does not have the disease, the probability that the test will incorrectly diagnose the disease (false positive) is:\n",
        "    - `5% (P(Test+ | No Disease) = 0.05)`.\n",
        "\n",
        "**Task**: Calculate the probability that a patient who tested positive actually has the disease using Bayes’ theorem."
      ]
    },
    {
      "cell_type": "code",
      "execution_count": 1,
      "metadata": {
        "id": "56a4UJeXy4O1"
      },
      "outputs": [],
      "source": [
        "def bayes_theorem(P_Disease, P_TestPlus_Disease, P_TestPlus_NoDisease):\n",
        "    # Calculate P(No Disease)\n",
        "    P_NoDisease = 1 - P_Disease\n",
        "    # Apply Bayes' Theorem\n",
        "    P_Disease_TestPlus = (P_TestPlus_Disease * P_Disease) / ((P_TestPlus_Disease * P_Disease) + (P_TestPlus_NoDisease * P_NoDisease))\n",
        "    return P_Disease_TestPlus"
      ]
    },
    {
      "cell_type": "code",
      "execution_count": 2,
      "metadata": {
        "colab": {
          "base_uri": "https://localhost:8080/"
        },
        "id": "HnfnH-3kzQEM",
        "outputId": "1d1e75a3-8505-4c6e-db11-80c4c7e8da81"
      },
      "outputs": [
        {
          "name": "stdout",
          "output_type": "stream",
          "text": [
            "The probability that a patient who tested positive actually has the disease is: 0.16101694915254236\n"
          ]
        }
      ],
      "source": [
        "# Given probabilities\n",
        "P_Disease = 0.01    # P(Disease)\n",
        "P_TestPlus_Disease = 0.95   # P(Test+ | Disease)\n",
        "P_TestPlus_NoDisease = 0.05    # P(Test+ | No Disease)\n",
        "\n",
        "# Calculate and print the result\n",
        "P_Disease_TestPlus = bayes_theorem(P_Disease, P_TestPlus_Disease, P_TestPlus_NoDisease)\n",
        "print(\"The probability that a patient who tested positive actually has the disease is:\", P_Disease_TestPlus)"
      ]
    }
  ],
  "metadata": {
    "colab": {
      "provenance": []
    },
    "kernelspec": {
      "display_name": "Python 3",
      "name": "python3"
    },
    "language_info": {
      "codemirror_mode": {
        "name": "ipython",
        "version": 3
      },
      "file_extension": ".py",
      "mimetype": "text/x-python",
      "name": "python",
      "nbconvert_exporter": "python",
      "pygments_lexer": "ipython3",
      "version": "3.12.2"
    }
  },
  "nbformat": 4,
  "nbformat_minor": 0
}
