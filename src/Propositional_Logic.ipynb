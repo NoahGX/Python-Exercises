{
  "cells": [
    {
      "cell_type": "markdown",
      "metadata": {
        "id": "v8SG6Z6bRra3"
      },
      "source": [
        "# **Understanding Propositional Logic**\n",
        "\n",
        "Let us test our understanding of propositional logic.\n",
        "\n",
        "Given a set of logical statements, our task is to evaluate these statements and provide the correct Boolean values."
      ]
    },
    {
      "cell_type": "markdown",
      "metadata": {
        "id": "AsjJeYYGR5_e"
      },
      "source": [
        "***\n",
        "\n",
        "## **1. Propositional Logic Evaluation**\n",
        "\n",
        "We will evaluate a series of propositional logic statements given specific truth values for the propositional variables.\n",
        "1. Consider the propositional variables \\( p \\) and \\( q \\).\n",
        "2. Assume (p = True) and (q = False).\n",
        "3. Evaluate the following logical statements and replace `None` with the Boolean result (`True` or `False`) of each statement.\n",
        "    - a. `∧` (AND)\n",
        "    - b. `∨` (OR)\n",
        "    - c. `¬` (NOT)\n",
        "    - d. `→` (IMPLIES)\n",
        "    - e. `↔` (IF AND ONLY IF)"
      ]
    },
    {
      "cell_type": "code",
      "execution_count": 1,
      "metadata": {
        "colab": {
          "base_uri": "https://localhost:8080/"
        },
        "id": "O9p846rKRCcE",
        "outputId": "833290f5-716f-42d3-eb96-84e13694ed66"
      },
      "outputs": [
        {
          "name": "stdout",
          "output_type": "stream",
          "text": [
            "Responses:  {'a': False, 'b': True, 'c': False, 'd': False, 'e': False}\n"
          ]
        }
      ],
      "source": [
        "def AND(p, q):\n",
        "    return p and q\n",
        "\n",
        "def OR(p, q):\n",
        "    return p or q\n",
        "\n",
        "def NOT(p):\n",
        "    return not p\n",
        "\n",
        "def IMPLIES(p, q):\n",
        "    # p -> q is equivalent to NOT p OR q\n",
        "    return not p or q\n",
        "\n",
        "def IF_ONLY(p, q):\n",
        "    return p == q\n",
        "\n",
        "# Given truth values for p and q\n",
        "p = True\n",
        "q = False\n",
        "\n",
        "# Evaluate the logical statements\n",
        "responses = {\n",
        "    'a': AND(p, q),\n",
        "    'b': OR(p, q),\n",
        "    'c': NOT(p),\n",
        "    'd': IMPLIES(p, q),\n",
        "    'e': IF_ONLY(p, q)\n",
        "}\n",
        "print(\"Responses: \", responses)"
      ]
    },
    {
      "cell_type": "markdown",
      "metadata": {
        "id": "6pynm83NWupU"
      },
      "source": [
        "***\n",
        "\n",
        "## **2. Advanced Propositional Logic Evaluation**\n",
        "\n",
        "We will evaluate more complex propositional logic statements involving additional variables and a variety of logical operations.\n",
        "1. Consider the propositional variables p, q, and r.\n",
        "2. Assume the following truth values:\n",
        "   - p = False\n",
        "   - q = True\n",
        "   - r = False\n",
        "3. Evaluate the following logical statements and replace `None` with the Boolean result (`True` or `False`) of each statement.\n",
        "   - a. $( (p \\lor q) \\land \\neg r)$\n",
        "   - b. $( \\neg p \\rightarrow (q \\land r))$\n",
        "   - c. $( (p \\rightarrow q) \\lor (r \\leftrightarrow p) )$\n",
        "   - d. $( \\neg (p \\lor q) \\land (r \\rightarrow p) )$\n",
        "   - e. $( (p \\leftrightarrow q) \\rightarrow \\neg r )$\n"
      ]
    },
    {
      "cell_type": "code",
      "execution_count": 2,
      "metadata": {
        "colab": {
          "base_uri": "https://localhost:8080/"
        },
        "id": "uQW6WKNZRqrg",
        "outputId": "cf330835-5ee6-484d-8a36-f5d5e75a3152"
      },
      "outputs": [
        {
          "name": "stdout",
          "output_type": "stream",
          "text": [
            "Responses:  {'a': True, 'b': False, 'c': True, 'd': False, 'e': True}\n"
          ]
        }
      ],
      "source": [
        "def OR_AND_NOT(p, q, r):\n",
        "    # Evaluate (p OR q) AND NOT r\n",
        "    return (p or q) and not r\n",
        "\n",
        "def NOT_IMPLIES_AND(p, q, r):\n",
        "    # Evaluate NOT p IMPLIES (q AND r)\n",
        "    return p or (q and r)\n",
        "\n",
        "def IMPLIES_OR_IFF(p, q, r):\n",
        "    # Evaluate (p IMPLIES q) OR (r IFF p)\n",
        "    return (not p or q) or (r == p)\n",
        "\n",
        "def NOT_OR_AND_IMPLIES(p, q, r):\n",
        "    # Evaluate NOT (p OR q) AND (r IMPLIES p)\n",
        "    return not (p or q) and (not r or p)\n",
        "\n",
        "def IFF_IMPLIES_NOT(p, q, r):\n",
        "    # Evaluate (p IFF q) IMPLIES NOT r\n",
        "    return not (p == q) or not r\n",
        "\n",
        "# Given truth values for p, q, and r\n",
        "p = False\n",
        "q = True\n",
        "r = False\n",
        "\n",
        "# Evaluate the logical statements\n",
        "exercise_2_responses = {\n",
        "    'a': OR_AND_NOT(p, q, r),\n",
        "    'b': NOT_IMPLIES_AND(p, q, r),\n",
        "    'c': IMPLIES_OR_IFF(p, q, r),\n",
        "    'd': NOT_OR_AND_IMPLIES(p, q, r),\n",
        "    'e': IFF_IMPLIES_NOT(p, q, r)\n",
        "}\n",
        "print(\"Responses: \", exercise_2_responses)"
      ]
    }
  ],
  "metadata": {
    "colab": {
      "provenance": []
    },
    "kernelspec": {
      "display_name": "Python 3",
      "name": "python3"
    },
    "language_info": {
      "codemirror_mode": {
        "name": "ipython",
        "version": 3
      },
      "file_extension": ".py",
      "mimetype": "text/x-python",
      "name": "python",
      "nbconvert_exporter": "python",
      "pygments_lexer": "ipython3",
      "version": "3.12.2"
    }
  },
  "nbformat": 4,
  "nbformat_minor": 0
}
