{
  "cells": [
    {
      "cell_type": "markdown",
      "id": "ZQQswkAn2-9J",
      "metadata": {
        "id": "ZQQswkAn2-9J"
      },
      "source": [
        "# **Python Demo Notebook 1**"
      ]
    },
    {
      "cell_type": "markdown",
      "id": "yQ17BYuxx6oe",
      "metadata": {
        "id": "yQ17BYuxx6oe"
      },
      "source": [
        "## String Slicing\n",
        "\n",
        "Given a string `text`, write a function `reverse_slice(text, start, end)` that returns the reversed slice of the string from index `start` to index `end`. Include the character at index `end` in the slice. Make sure to handle both positive and negative indices."
      ]
    },
    {
      "cell_type": "code",
      "execution_count": 1,
      "id": "lfEVL2Ygx6oi",
      "metadata": {
        "id": "lfEVL2Ygx6oi"
      },
      "outputs": [],
      "source": [
        "def reverse_slice(text, start, end):\n",
        "    if start < 0:\n",
        "        start += len(text)\n",
        "    if end < 0:\n",
        "        end += len(text)\n",
        "    return text[start:end+1][::-1]\n",
        "    pass"
      ]
    },
    {
      "cell_type": "code",
      "execution_count": 2,
      "id": "RFgB0ux3yALZ",
      "metadata": {
        "colab": {
          "base_uri": "https://localhost:8080/"
        },
        "id": "RFgB0ux3yALZ",
        "outputId": "4d40dc54-17de-4bb5-83ec-d215f8790794"
      },
      "outputs": [
        {
          "name": "stdout",
          "output_type": "stream",
          "text": [
            "4712452274263841439\n"
          ]
        }
      ],
      "source": [
        "# Get the hash\n",
        "rs = reverse_slice(\"This should give me the answer\",3,11)\n",
        "if rs is None:\n",
        "  print(\"Function didn't return anything\")\n",
        "else:\n",
        "  print(hash(rs))"
      ]
    },
    {
      "cell_type": "markdown",
      "id": "N-Sfism4x6oj",
      "metadata": {
        "id": "N-Sfism4x6oj"
      },
      "source": [
        "## Plotting Data\n",
        "\n",
        "Given a list of x-coordinates and y-coordinates, write a function `plot_data(x, y)` that plots a scatter plot of the data. Use default settings in the plot method."
      ]
    },
    {
      "cell_type": "code",
      "execution_count": 3,
      "id": "tgGcr0sVx6oj",
      "metadata": {
        "id": "tgGcr0sVx6oj"
      },
      "outputs": [],
      "source": [
        "import matplotlib.pyplot as plt\n",
        "\n",
        "def plot_data(x, y):\n",
        "    plt.scatter(x, y)\n",
        "    plt.title('Scatter Plot of Data')\n",
        "    plt.xlabel('x-coordinates')\n",
        "    plt.ylabel('y-coordinates')\n",
        "    plt.show()\n",
        "    pass"
      ]
    },
    {
      "cell_type": "code",
      "execution_count": 4,
      "id": "vfCeAdL800oJ",
      "metadata": {
        "colab": {
          "base_uri": "https://localhost:8080/",
          "height": 472
        },
        "id": "vfCeAdL800oJ",
        "outputId": "7fde7e7b-08e6-43bf-eac6-2283bb2fc33d"
      },
      "outputs": [
        {
          "data": {
            "image/png": "[encoded data removed]",
            "text/plain": [
              "<Figure size 640x480 with 1 Axes>"
            ]
          },
          "metadata": {},
          "output_type": "display_data"
        }
      ],
      "source": [
        "x = [1, 2, 3, 4, 5]\n",
        "y = [2, 4, 6, 8, 10]\n",
        "plot_data(x, y)"
      ]
    },
    {
      "cell_type": "markdown",
      "id": "zxZYWE-Yx6ok",
      "metadata": {
        "id": "zxZYWE-Yx6ok"
      },
      "source": [
        "## Loops\n",
        "Write a function `count_vowels(text)` that counts and returns the number of vowels (a, e, i, o, u, case-insensitive) in the given `text`."
      ]
    },
    {
      "cell_type": "code",
      "execution_count": 5,
      "id": "i5qXcpWHx6ok",
      "metadata": {
        "id": "i5qXcpWHx6ok"
      },
      "outputs": [],
      "source": [
        "def count_vowels(text):\n",
        "    text = text.lower()\n",
        "    count = sum(1 for char in text if char in \"aeiou\")\n",
        "    return count\n",
        "    pass"
      ]
    },
    {
      "cell_type": "code",
      "execution_count": 6,
      "id": "Q2FWaeI-1J-6",
      "metadata": {
        "colab": {
          "base_uri": "https://localhost:8080/"
        },
        "id": "Q2FWaeI-1J-6",
        "outputId": "5ec1d97f-6849-41ab-ebef-d20c4a3d832c"
      },
      "outputs": [
        {
          "name": "stdout",
          "output_type": "stream",
          "text": [
            "703\n"
          ]
        }
      ],
      "source": [
        "vowel_check = \"\"\"\n",
        "Lorem ipsum dolor sit amet, consectetur adipiscing elit. Sed tristique tristique felis, vel fermentum urna tincidunt a. Vestibulum laoreet nisi eu enim venenatis,\n",
        "at condimentum eros semper. Vivamus dictum lectus augue, ac vestibulum dolor efficitur a. Suspendisse non mauris vel risus tempor efficitur. Quisque in consequat\n",
        " mauris. Nullam convallis mauris nec turpis efficitur, quis eleifend odio finibus. Fusce semper nisl id erat rutrum, nec egestas libero luctus.\n",
        " Proin posuere luctus semper. Donec lobortis faucibus enim vitae blandit. Integer dapibus tellus vitae tortor feugiat, sed lacinia lacus aliquam.\n",
        " Nunc malesuada ligula vitae felis consectetur vestibulum. Curabitur luctus semper mauris id laoreet. Duis commodo magna leo, eu interdum elit sollicitudin\n",
        " ac. Aenean iaculis ultrices eleifend. Ut quis felis vel odio consectetur vestibulum vitae ac tortor. Etiam a volutpat nibh. Nullam a metus consectetur,\n",
        " tempor dui id, eleifend urna. Nunc rhoncus, sem non fermentum eleifend, magna ex aliquam mi, nec iaculis turpis lectus eu dolor. Phasellus in ante id turpis\n",
        " dignissim venenatis. Nunc consectetur nunc in libero pulvinar bibendum. Aliquam erat volutpat. In sed finibus tellus. Sed pellentesque purus vel cursus elementum.\n",
        " Praesent venenatis, metus et vestibulum dapibus, sapien odio fringilla purus, a pharetra turpis enim vel neque. Vivamus sagittis ultrices lorem, a vestibulum\n",
        " urna rutrum nec. Phasellus sit amet arcu at ligula ultricies fermentum vel sed nunc. Morbi sed volutpat purus. Nam eget efficitur quam. Curabitur malesuada nunc\n",
        " sed metus commodo, ac fermentum lectus convallis. Vestibulum ante ipsum primis in faucibus orci luctus et ultrices posuere cubilia Curae; Proin tempus tempor urna,\n",
        " id dapibus sem auctor vitae. Quisque non massa vitae est feugiat ultrices. Nam at purus sed erat hendrerit egestas. Pellentesque viverra tortor a orci posuere, sit\n",
        " amet feugiat lorem congue. Integer pulvinar fermentum lectus, eu semper libero scelerisque ut.\n",
        "\"\"\"\n",
        "print(count_vowels(vowel_check))"
      ]
    }
  ],
  "metadata": {
    "colab": {
      "provenance": []
    },
    "kernelspec": {
      "display_name": "Python 3",
      "language": "python",
      "name": "python3"
    },
    "language_info": {
      "codemirror_mode": {
        "name": "ipython",
        "version": 3
      },
      "file_extension": ".py",
      "mimetype": "text/x-python",
      "name": "python",
      "nbconvert_exporter": "python",
      "pygments_lexer": "ipython3",
      "version": "3.12.2"
    }
  },
  "nbformat": 4,
  "nbformat_minor": 5
}
