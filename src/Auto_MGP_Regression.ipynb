{
  "cells": [
    {
      "cell_type": "markdown",
      "metadata": {},
      "source": [
        "# **Automobile MPG Prediction Using Linear Regression**\n",
        "\n",
        "***"
      ]
    },
    {
      "cell_type": "code",
      "execution_count": 1,
      "metadata": {
        "id": "8lh91wJkcdtF"
      },
      "outputs": [],
      "source": [
        "import io\n",
        "import requests\n",
        "import zipfile\n",
        "import pandas as pd"
      ]
    },
    {
      "cell_type": "code",
      "execution_count": 2,
      "metadata": {
        "colab": {
          "base_uri": "https://localhost:8080/"
        },
        "id": "LwvfBtvHcpBi",
        "outputId": "f90e5bbe-b531-4ed9-ec8f-2a332686fb33"
      },
      "outputs": [
        {
          "name": "stdout",
          "output_type": "stream",
          "text": [
            "    mpg  cylinders  displacement horsepower  weight  acceleration  model_year  \\\n",
            "0  18.0          8         307.0      130.0  3504.0          12.0          70   \n",
            "1  15.0          8         350.0      165.0  3693.0          11.5          70   \n",
            "2  18.0          8         318.0      150.0  3436.0          11.0          70   \n",
            "3  16.0          8         304.0      150.0  3433.0          12.0          70   \n",
            "4  17.0          8         302.0      140.0  3449.0          10.5          70   \n",
            "\n",
            "   origin                   car_name  \n",
            "0       1  chevrolet chevelle malibu  \n",
            "1       1          buick skylark 320  \n",
            "2       1         plymouth satellite  \n",
            "3       1              amc rebel sst  \n",
            "4       1                ford torino  \n"
          ]
        },
        {
          "name": "stderr",
          "output_type": "stream",
          "text": [
            "/var/folders/zp/_d_rstf11flfs_c9y4mt102w0000gn/T/ipykernel_44201/700731076.py:12: FutureWarning: The 'delim_whitespace' keyword in pd.read_csv is deprecated and will be removed in a future version. Use ``sep='\\s+'`` instead\n",
            "  auto_mpg = pd.read_csv(f,delim_whitespace=True,names=col_names, header=None)\n"
          ]
        }
      ],
      "source": [
        "from pickle import TRUE\n",
        "\n",
        "# Open zipped dataset\n",
        "r = requests.get(\"https://archive.ics.uci.edu/static/public/9/auto+mpg.zip\")\n",
        "z = zipfile.ZipFile(io.BytesIO(r.content))\n",
        "\n",
        "# Read the dataset\n",
        "with z.open(\"auto-mpg.data\") as f:\n",
        "    # auto_mpg = pd.read_csv(f,delim_whitespace=True,header=None)\n",
        "    col_names = [\"mpg\",\"cylinders\",\"displacement\",\"horsepower\",\"weight\",\n",
        "                 \"acceleration\",\"model_year\",\"origin\", \"car_name\"]\n",
        "    auto_mpg = pd.read_csv(f,delim_whitespace=True,names=col_names, header=None)\n",
        "    # Display the dataset\n",
        "    print(auto_mpg.head())"
      ]
    },
    {
      "cell_type": "code",
      "execution_count": 3,
      "metadata": {
        "colab": {
          "base_uri": "https://localhost:8080/"
        },
        "id": "p4rP-pq71nJv",
        "outputId": "c168c286-89c0-4ed2-c1ae-aeb17d02c755"
      },
      "outputs": [
        {
          "name": "stdout",
          "output_type": "stream",
          "text": [
            "                            OLS Regression Results                            \n",
            "==============================================================================\n",
            "Dep. Variable:                    mpg   R-squared:                       0.606\n",
            "Model:                            OLS   Adj. R-squared:                  0.605\n",
            "Method:                 Least Squares   F-statistic:                     599.7\n",
            "Date:                Sat, 24 Aug 2024   Prob (F-statistic):           7.03e-81\n",
            "Time:                        20:12:08   Log-Likelihood:                -1178.7\n",
            "No. Observations:                 392   AIC:                             2361.\n",
            "Df Residuals:                     390   BIC:                             2369.\n",
            "Df Model:                           1                                         \n",
            "Covariance Type:            nonrobust                                         \n",
            "==============================================================================\n",
            "                 coef    std err          t      P>|t|      [0.025      0.975]\n",
            "------------------------------------------------------------------------------\n",
            "const         39.9359      0.717     55.660      0.000      38.525      41.347\n",
            "horsepower    -0.1578      0.006    -24.489      0.000      -0.171      -0.145\n",
            "==============================================================================\n",
            "Omnibus:                       16.432   Durbin-Watson:                   0.920\n",
            "Prob(Omnibus):                  0.000   Jarque-Bera (JB):               17.305\n",
            "Skew:                           0.492   Prob(JB):                     0.000175\n",
            "Kurtosis:                       3.299   Cond. No.                         322.\n",
            "==============================================================================\n",
            "\n",
            "Notes:\n",
            "[1] Standard Errors assume that the covariance matrix of the errors is correctly specified.\n"
          ]
        }
      ],
      "source": [
        "import statsmodels.api as sm\n",
        "\n",
        "# Convert horsepower to numeric, drop rows where conversion is not possible\n",
        "auto_mpg['horsepower'] = pd.to_numeric(auto_mpg['horsepower'], errors='coerce')\n",
        "auto_mpg = auto_mpg.dropna(subset=['mpg', 'horsepower'])\n",
        "\n",
        "# Define the predictor (X) and the response (y)\n",
        "X = auto_mpg[['horsepower']]\n",
        "y = auto_mpg['mpg']\n",
        "\n",
        "# Add constant to the predictor\n",
        "X = sm.add_constant(X)\n",
        "\n",
        "# Fit the model\n",
        "model = sm.OLS(y, X).fit()\n",
        "\n",
        "# Print out the summary of the regression\n",
        "print(model.summary())"
      ]
    }
  ],
  "metadata": {
    "colab": {
      "provenance": []
    },
    "kernelspec": {
      "display_name": "Python 3",
      "name": "python3"
    },
    "language_info": {
      "codemirror_mode": {
        "name": "ipython",
        "version": 3
      },
      "file_extension": ".py",
      "mimetype": "text/x-python",
      "name": "python",
      "nbconvert_exporter": "python",
      "pygments_lexer": "ipython3",
      "version": "3.12.2"
    }
  },
  "nbformat": 4,
  "nbformat_minor": 0
}
